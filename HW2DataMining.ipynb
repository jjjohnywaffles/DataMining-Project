{
 "cells": [
  {
   "cell_type": "code",
   "execution_count": 68,
   "id": "aca14c90-a551-49ec-86b1-732416f4dabd",
   "metadata": {},
   "outputs": [],
   "source": [
    "import pandas as pd\n",
    "import numpy as np\n",
    "\n",
    "def maximum(filename, attribute_number):\n",
    "    column = pd.read_csv(filename,usecols=[attribute_number-1], header=None)\n",
    "    return column.max()\n",
    "\n",
    "def minimum(filename, attribute_number):\n",
    "    column = pd.read_csv(filename,usecols=[attribute_number-1], header=None)\n",
    "    return column.min()\n",
    "\n",
    "def mean(filename, attribute_number):\n",
    "    column = pd.read_csv(filename,usecols=[attribute_number-1], header=None)\n",
    "    return column.mean()\n",
    "\n",
    "def std(filename, attribute_number):\n",
    "    column = pd.read_csv(filename,usecols=[attribute_number-1], header=None)\n",
    "    return column.std()\n",
    "\n",
    "def q1(filename, attribute_number):\n",
    "    column = pd.read_csv(filename,usecols=[attribute_number-1], header=None)\n",
    "    return column.quantile(0.25)\n",
    "\n",
    "def q3(filename, attribute_number):\n",
    "    column = pd.read_csv(filename,usecols=[attribute_number-1], header=None)\n",
    "    return column.quantile(0.75)\n",
    "\n",
    "def median(filename, attribute_number):\n",
    "    column = pd.read_csv(filename,usecols=[attribute_number-1], header=None)\n",
    "    return column.median()\n",
    "\n",
    "def iqr(filename, attribute_number):\n",
    "    column = pd.read_csv(filename,usecols=[attribute_number-1], header=None)\n",
    "    return column.quantile(0.75) - column.quantile(0.25)\n",
    "\n",
    "def count(filename, attribute_number):\n",
    "    column = pd.read_csv(filename,usecols=[attribute_number-1], header=None)\n",
    "    return column.count()"
   ]
  },
  {
   "cell_type": "code",
   "execution_count": 69,
   "id": "c40ff0ef-f307-4499-a523-aec03746b4c6",
   "metadata": {},
   "outputs": [
    {
     "name": "stdout",
     "output_type": "stream",
     "text": [
      "              6\n",
      "0       22.0110\n",
      "1       23.8238\n",
      "2      -64.8580\n",
      "3       -6.4633\n",
      "4       28.5525\n",
      "...         ...\n",
      "19015   11.5245\n",
      "19016   13.1853\n",
      "19017   41.0562\n",
      "19018  -93.5224\n",
      "19019 -168.4558\n",
      "\n",
      "[19020 rows x 1 columns]\n",
      "6   -331.78\n",
      "dtype: float64\n",
      "6    238.321\n",
      "dtype: float64\n",
      "6    10.545545\n",
      "dtype: float64\n",
      "6    51.000118\n",
      "dtype: float64\n",
      "6   -12.842775\n",
      "Name: 0.25, dtype: float64\n",
      "6    35.8378\n",
      "Name: 0.75, dtype: float64\n",
      "6    15.3141\n",
      "dtype: float64\n",
      "6    48.680575\n",
      "dtype: float64\n",
      "6    19020\n",
      "dtype: int64\n"
     ]
    }
   ],
   "source": [
    "i=7\n",
    "print(column(\"magic04.data\",i))\n",
    "print(minimum(\"magic04.data\",i))\n",
    "print(maximum(\"magic04.data\",i))\n",
    "print(mean(\"magic04.data\",i))\n",
    "print(std(\"magic04.data\",i))\n",
    "print(q1(\"magic04.data\",i))\n",
    "print(q3(\"magic04.data\",i))\n",
    "print(median(\"magic04.data\",i))\n",
    "print(iqr(\"magic04.data\",i))\n",
    "print(count(\"magic04.data\",i))"
   ]
  },
  {
   "cell_type": "code",
   "execution_count": 65,
   "id": "ed00f7b9-8bbc-45fb-8720-6b59f20421cd",
   "metadata": {},
   "outputs": [
    {
     "name": "stdout",
     "output_type": "stream",
     "text": [
      "              0\n",
      "0       28.7967\n",
      "1       31.6036\n",
      "2      162.0520\n",
      "3       23.8172\n",
      "4       75.1362\n",
      "...         ...\n",
      "19015   21.3846\n",
      "19016   28.9452\n",
      "19017   75.4455\n",
      "19018  120.5135\n",
      "19019  187.1814\n",
      "\n",
      "[19020 rows x 1 columns]\n"
     ]
    }
   ],
   "source": [
    "print(column(\"magic04.data\",1))"
   ]
  },
  {
   "cell_type": "code",
   "execution_count": null,
   "id": "4a585b00-1dbd-48fc-a60d-b35e54555263",
   "metadata": {},
   "outputs": [],
   "source": []
  }
 ],
 "metadata": {
  "kernelspec": {
   "display_name": "Python 3 (ipykernel)",
   "language": "python",
   "name": "python3"
  },
  "language_info": {
   "codemirror_mode": {
    "name": "ipython",
    "version": 3
   },
   "file_extension": ".py",
   "mimetype": "text/x-python",
   "name": "python",
   "nbconvert_exporter": "python",
   "pygments_lexer": "ipython3",
   "version": "3.10.8"
  }
 },
 "nbformat": 4,
 "nbformat_minor": 5
}
