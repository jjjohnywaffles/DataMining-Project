{
 "cells": [
  {
   "cell_type": "code",
   "execution_count": 14,
   "id": "ea9c3ebe-e64c-4fbb-bd19-f9cc29c7e853",
   "metadata": {},
   "outputs": [],
   "source": [
    "import pandas as pd\n",
    "import numpy as np\n",
    "import zipfile"
   ]
  },
  {
   "cell_type": "code",
   "execution_count": 15,
   "id": "761b8040-214e-4f42-a7df-cef698087cfb",
   "metadata": {},
   "outputs": [],
   "source": [
    "# Setting the datatypes for the data\n",
    "\n",
    "transaction_dtypes = {\n",
    "    \"cms_certification_num\": \"object\",\n",
    "    \"payer\": \"object\",\n",
    "    \"code\": \"object\",\n",
    "    \"description\": \"object\",\n",
    "    \"inpatient_outpatient\": \"category\",\n",
    "    \"price\": \"float64\",\n",
    "}\n",
    "\n",
    "hospital_dtypes = {\n",
    "    \"cms_certification_num\": \"object\",\n",
    "    \"name\": \"object\",\n",
    "    \"address\": \"object\",\n",
    "    \"city\": \"category\",\n",
    "    \"state\": \"category\",\n",
    "    \"zip5\": \"int64\",\n",
    "    \"beds\": \"int64\",\n",
    "    \"phone_number\": \"object\",\n",
    "    \"homepage_url\": \"object\",\n",
    "    \"chargemaster_url\": \"object\",\n",
    "    \"last_edited_by_username\" : \"object\",\n",
    "}"
   ]
  },
  {
   "cell_type": "code",
   "execution_count": null,
   "id": "ce993025-5ed0-4e3b-a4d8-e18317b89087",
   "metadata": {
    "tags": []
   },
   "outputs": [],
   "source": [
    "# Read the data in the file using Pandas and dropping colunms we don't need\n",
    "# We'll also clean up the unspecified/empty columns\n",
    "\n",
    "\n",
    "transactions = pd.read_csv('C1776.zip', dtype=transaction_dtypes, compression='zip', low_memory=False)\n",
    "hospitals = pd.read_csv('hospitals.csv', dtype=hospital_dtypes)\n",
    "\n",
    "# Merge the hospital info with the transaction data\n",
    "df = pd.merge(transactions, hospitals, on='cms_certification_num', how='left')\n",
    "\n",
    "# Drop fields that aren't useful to us\n",
    "data = df.drop(\n",
    "    ['units',\n",
    "     'code_disambiguator',\n",
    "     'internal_revenue_code',\n",
    "     'phone_number',\n",
    "     'homepage_url',\n",
    "     'chargemaster_url',\n",
    "     'last_edited_by_username'\n",
    "    ],\n",
    "    axis=1)\n",
    "data = data[data.inpatient_outpatient != 'UNSPECIFIED']"
   ]
  },
  {
   "cell_type": "code",
   "execution_count": null,
   "id": "6d4df2ee-3f4a-4bc2-b3d7-8506bc2de8c3",
   "metadata": {},
   "outputs": [],
   "source": [
    "# Some rows of the original dataset\n",
    "\n",
    "data.head(10)"
   ]
  },
  {
   "cell_type": "code",
   "execution_count": null,
   "id": "ab7c98bb-d09e-4483-8a5e-fc1dc661948f",
   "metadata": {},
   "outputs": [],
   "source": [
    "# Starting by grouping the payers and the description \n",
    "# and the count of the code.\n",
    "\n",
    "code_by_payer = data.groupby([\"payer\"], as_index=False)[\"code\"].count()"
   ]
  },
  {
   "cell_type": "code",
   "execution_count": null,
   "id": "dd00f52e-fbf1-4093-b192-531431246b2c",
   "metadata": {},
   "outputs": [],
   "source": [
    "# Show some of the rows\n",
    "\n",
    "code_by_payer.head(10)"
   ]
  },
  {
   "cell_type": "code",
   "execution_count": null,
   "id": "c2cd26a5-f1a3-42f4-b051-365f320c33e0",
   "metadata": {},
   "outputs": [],
   "source": [
    "# Now lets just group by code\n",
    "\n",
    "group_by_code = data.groupby(\"code\")"
   ]
  },
  {
   "cell_type": "code",
   "execution_count": 3,
   "id": "36019d62-10fd-4bf4-8bdc-2c47460c31ae",
   "metadata": {},
   "outputs": [
    {
     "ename": "NameError",
     "evalue": "name 'group_by_code' is not defined",
     "output_type": "error",
     "traceback": [
      "\u001b[0;31m---------------------------------------------------------------------------\u001b[0m",
      "\u001b[0;31mNameError\u001b[0m                                 Traceback (most recent call last)",
      "Cell \u001b[0;32mIn[3], line 3\u001b[0m\n\u001b[1;32m      1\u001b[0m \u001b[38;5;66;03m# Using 1 to see all the diferrent codes\u001b[39;00m\n\u001b[0;32m----> 3\u001b[0m \u001b[43mgroup_by_code\u001b[49m\u001b[38;5;241m.\u001b[39mhead(\u001b[38;5;241m1\u001b[39m)\n",
      "\u001b[0;31mNameError\u001b[0m: name 'group_by_code' is not defined"
     ]
    }
   ],
   "source": [
    "# Using 1 to see all the diferrent codes\n",
    "\n",
    "group_by_code.head(1)"
   ]
  },
  {
   "cell_type": "code",
   "execution_count": 4,
   "id": "adb21bf5-e2ce-423e-a9ca-d514db2f5610",
   "metadata": {},
   "outputs": [
    {
     "ename": "NameError",
     "evalue": "name 'data' is not defined",
     "output_type": "error",
     "traceback": [
      "\u001b[0;31m---------------------------------------------------------------------------\u001b[0m",
      "\u001b[0;31mNameError\u001b[0m                                 Traceback (most recent call last)",
      "Cell \u001b[0;32mIn[4], line 3\u001b[0m\n\u001b[1;32m      1\u001b[0m \u001b[38;5;66;03m# Lets do the same thing with the procedure (description)\u001b[39;00m\n\u001b[0;32m----> 3\u001b[0m group_by_description \u001b[38;5;241m=\u001b[39m \u001b[43mdata\u001b[49m\u001b[38;5;241m.\u001b[39mgroupby(\u001b[38;5;124m\"\u001b[39m\u001b[38;5;124mdescription\u001b[39m\u001b[38;5;124m\"\u001b[39m)\n",
      "\u001b[0;31mNameError\u001b[0m: name 'data' is not defined"
     ]
    }
   ],
   "source": [
    "# Lets do the same thing with the procedure (description)\n",
    "\n",
    "group_by_description = data.groupby(\"description\")"
   ]
  },
  {
   "cell_type": "code",
   "execution_count": 5,
   "id": "b8e25210-9053-49c0-b799-08e7dcde5eb5",
   "metadata": {},
   "outputs": [
    {
     "ename": "NameError",
     "evalue": "name 'group_by_description' is not defined",
     "output_type": "error",
     "traceback": [
      "\u001b[0;31m---------------------------------------------------------------------------\u001b[0m",
      "\u001b[0;31mNameError\u001b[0m                                 Traceback (most recent call last)",
      "Cell \u001b[0;32mIn[5], line 1\u001b[0m\n\u001b[0;32m----> 1\u001b[0m \u001b[43mgroup_by_description\u001b[49m\u001b[38;5;241m.\u001b[39mhead(\u001b[38;5;241m1\u001b[39m)\n",
      "\u001b[0;31mNameError\u001b[0m: name 'group_by_description' is not defined"
     ]
    }
   ],
   "source": [
    "group_by_description.head(1)"
   ]
  },
  {
   "cell_type": "code",
   "execution_count": 6,
   "id": "7523c474-ce43-46ba-99cb-713e3a4106fd",
   "metadata": {},
   "outputs": [
    {
     "ename": "NameError",
     "evalue": "name 'data' is not defined",
     "output_type": "error",
     "traceback": [
      "\u001b[0;31m---------------------------------------------------------------------------\u001b[0m",
      "\u001b[0;31mNameError\u001b[0m                                 Traceback (most recent call last)",
      "Cell \u001b[0;32mIn[6], line 4\u001b[0m\n\u001b[1;32m      1\u001b[0m \u001b[38;5;66;03m# Group by inpatient/outpatients/both\u001b[39;00m\n\u001b[1;32m      2\u001b[0m \u001b[38;5;66;03m# We'll use this to look at what procedures require what \u001b[39;00m\n\u001b[0;32m----> 4\u001b[0m patient_grouping \u001b[38;5;241m=\u001b[39m \u001b[43mdata\u001b[49m\u001b[38;5;241m.\u001b[39mgroupby(\u001b[38;5;124m\"\u001b[39m\u001b[38;5;124minpatient_outpatient\u001b[39m\u001b[38;5;124m\"\u001b[39m)\n",
      "\u001b[0;31mNameError\u001b[0m: name 'data' is not defined"
     ]
    }
   ],
   "source": [
    "# Group by inpatient/outpatients/both\n",
    "# We'll use this to look at what procedures require what \n",
    "\n",
    "patient_grouping = data.groupby(\"inpatient_outpatient\")"
   ]
  },
  {
   "cell_type": "code",
   "execution_count": 7,
   "id": "4e775ce0-65db-4bc1-a412-313d867cd50d",
   "metadata": {},
   "outputs": [
    {
     "ename": "NameError",
     "evalue": "name 'patient_grouping' is not defined",
     "output_type": "error",
     "traceback": [
      "\u001b[0;31m---------------------------------------------------------------------------\u001b[0m",
      "\u001b[0;31mNameError\u001b[0m                                 Traceback (most recent call last)",
      "Cell \u001b[0;32mIn[7], line 2\u001b[0m\n\u001b[1;32m      1\u001b[0m \u001b[38;5;66;03m# Get just the outpatients \u001b[39;00m\n\u001b[0;32m----> 2\u001b[0m outpatient_grouping \u001b[38;5;241m=\u001b[39m \u001b[43mpatient_grouping\u001b[49m\u001b[38;5;241m.\u001b[39mget_group(\u001b[38;5;124m\"\u001b[39m\u001b[38;5;124mOUTPATIENT\u001b[39m\u001b[38;5;124m\"\u001b[39m)\n",
      "\u001b[0;31mNameError\u001b[0m: name 'patient_grouping' is not defined"
     ]
    }
   ],
   "source": [
    "# Get just the outpatients \n",
    "outpatient_grouping = patient_grouping.get_group(\"OUTPATIENT\")"
   ]
  },
  {
   "cell_type": "code",
   "execution_count": 8,
   "id": "cf6077f5-7f80-4e4d-a1e5-43b111a5545d",
   "metadata": {},
   "outputs": [
    {
     "ename": "NameError",
     "evalue": "name 'outpatient_grouping' is not defined",
     "output_type": "error",
     "traceback": [
      "\u001b[0;31m---------------------------------------------------------------------------\u001b[0m",
      "\u001b[0;31mNameError\u001b[0m                                 Traceback (most recent call last)",
      "Cell \u001b[0;32mIn[8], line 4\u001b[0m\n\u001b[1;32m      1\u001b[0m \u001b[38;5;66;03m# Group them by description and payer. This makes\u001b[39;00m\n\u001b[1;32m      2\u001b[0m \u001b[38;5;66;03m# the amount of rows smaller\u001b[39;00m\n\u001b[0;32m----> 4\u001b[0m outpatient_by_description \u001b[38;5;241m=\u001b[39m \u001b[43moutpatient_grouping\u001b[49m\u001b[38;5;241m.\u001b[39mgroupby([\u001b[38;5;124m\"\u001b[39m\u001b[38;5;124mpayer\u001b[39m\u001b[38;5;124m\"\u001b[39m, \u001b[38;5;124m\"\u001b[39m\u001b[38;5;124mdescription\u001b[39m\u001b[38;5;124m\"\u001b[39m])\n",
      "\u001b[0;31mNameError\u001b[0m: name 'outpatient_grouping' is not defined"
     ]
    }
   ],
   "source": [
    "# Group them by description and payer. This makes\n",
    "# the amount of rows smaller\n",
    "\n",
    "outpatient_by_description = outpatient_grouping.groupby([\"payer\", \"description\"])"
   ]
  },
  {
   "cell_type": "code",
   "execution_count": 9,
   "id": "334eb309-bf63-4336-a7bf-037a1ce81d28",
   "metadata": {},
   "outputs": [
    {
     "ename": "NameError",
     "evalue": "name 'outpatient_by_description' is not defined",
     "output_type": "error",
     "traceback": [
      "\u001b[0;31m---------------------------------------------------------------------------\u001b[0m",
      "\u001b[0;31mNameError\u001b[0m                                 Traceback (most recent call last)",
      "Cell \u001b[0;32mIn[9], line 2\u001b[0m\n\u001b[1;32m      1\u001b[0m \u001b[38;5;66;03m# Lets look at the results\u001b[39;00m\n\u001b[0;32m----> 2\u001b[0m \u001b[43moutpatient_by_description\u001b[49m\u001b[38;5;241m.\u001b[39mhead(\u001b[38;5;241m1\u001b[39m)\n",
      "\u001b[0;31mNameError\u001b[0m: name 'outpatient_by_description' is not defined"
     ]
    }
   ],
   "source": [
    "# Lets look at the results\n",
    "outpatient_by_description.head(1)"
   ]
  },
  {
   "cell_type": "code",
   "execution_count": 10,
   "id": "35058bda-594e-40c7-ad20-cf36b4bd6de1",
   "metadata": {},
   "outputs": [
    {
     "ename": "NameError",
     "evalue": "name 'patient_grouping' is not defined",
     "output_type": "error",
     "traceback": [
      "\u001b[0;31m---------------------------------------------------------------------------\u001b[0m",
      "\u001b[0;31mNameError\u001b[0m                                 Traceback (most recent call last)",
      "Cell \u001b[0;32mIn[10], line 1\u001b[0m\n\u001b[0;32m----> 1\u001b[0m inpatient_grouping \u001b[38;5;241m=\u001b[39m \u001b[43mpatient_grouping\u001b[49m\u001b[38;5;241m.\u001b[39mget_group(\u001b[38;5;124m\"\u001b[39m\u001b[38;5;124mINPATIENT\u001b[39m\u001b[38;5;124m\"\u001b[39m)\n\u001b[1;32m      2\u001b[0m inpatient_by_description \u001b[38;5;241m=\u001b[39m inpatient_grouping\u001b[38;5;241m.\u001b[39mgroupby([\u001b[38;5;124m\"\u001b[39m\u001b[38;5;124mpayer\u001b[39m\u001b[38;5;124m\"\u001b[39m, \u001b[38;5;124m\"\u001b[39m\u001b[38;5;124mdescription\u001b[39m\u001b[38;5;124m\"\u001b[39m])\n",
      "\u001b[0;31mNameError\u001b[0m: name 'patient_grouping' is not defined"
     ]
    }
   ],
   "source": [
    "inpatient_grouping = patient_grouping.get_group(\"INPATIENT\")\n",
    "inpatient_by_description = inpatient_grouping.groupby([\"payer\", \"description\"])"
   ]
  },
  {
   "cell_type": "code",
   "execution_count": 11,
   "id": "9bbf4c65-bccb-483c-8e31-b98e5e1bc8ec",
   "metadata": {},
   "outputs": [
    {
     "ename": "NameError",
     "evalue": "name 'inpatient_by_description' is not defined",
     "output_type": "error",
     "traceback": [
      "\u001b[0;31m---------------------------------------------------------------------------\u001b[0m",
      "\u001b[0;31mNameError\u001b[0m                                 Traceback (most recent call last)",
      "Cell \u001b[0;32mIn[11], line 1\u001b[0m\n\u001b[0;32m----> 1\u001b[0m \u001b[43minpatient_by_description\u001b[49m\u001b[38;5;241m.\u001b[39mhead(\u001b[38;5;241m1\u001b[39m)\n",
      "\u001b[0;31mNameError\u001b[0m: name 'inpatient_by_description' is not defined"
     ]
    }
   ],
   "source": [
    "inpatient_by_description.head(1)"
   ]
  },
  {
   "cell_type": "code",
   "execution_count": 12,
   "id": "6273bb66-9a4e-4df4-b5fc-bf9c1f944f0e",
   "metadata": {},
   "outputs": [
    {
     "ename": "NameError",
     "evalue": "name 'patient_grouping' is not defined",
     "output_type": "error",
     "traceback": [
      "\u001b[0;31m---------------------------------------------------------------------------\u001b[0m",
      "\u001b[0;31mNameError\u001b[0m                                 Traceback (most recent call last)",
      "Cell \u001b[0;32mIn[12], line 1\u001b[0m\n\u001b[0;32m----> 1\u001b[0m both_grouping \u001b[38;5;241m=\u001b[39m \u001b[43mpatient_grouping\u001b[49m\u001b[38;5;241m.\u001b[39mget_group(\u001b[38;5;124m\"\u001b[39m\u001b[38;5;124mBOTH\u001b[39m\u001b[38;5;124m\"\u001b[39m)\n\u001b[1;32m      2\u001b[0m both_by_description \u001b[38;5;241m=\u001b[39m both_grouping\u001b[38;5;241m.\u001b[39mgroupby([\u001b[38;5;124m\"\u001b[39m\u001b[38;5;124mpayer\u001b[39m\u001b[38;5;124m\"\u001b[39m,\u001b[38;5;124m\"\u001b[39m\u001b[38;5;124mdescription\u001b[39m\u001b[38;5;124m\"\u001b[39m])\n",
      "\u001b[0;31mNameError\u001b[0m: name 'patient_grouping' is not defined"
     ]
    }
   ],
   "source": [
    "both_grouping = patient_grouping.get_group(\"BOTH\")\n",
    "both_by_description = both_grouping.groupby([\"payer\",\"description\"])"
   ]
  },
  {
   "cell_type": "code",
   "execution_count": 13,
   "id": "1b536fe9-cb25-4eb4-86fa-7a93b2955c79",
   "metadata": {},
   "outputs": [
    {
     "ename": "NameError",
     "evalue": "name 'both_by_description' is not defined",
     "output_type": "error",
     "traceback": [
      "\u001b[0;31m---------------------------------------------------------------------------\u001b[0m",
      "\u001b[0;31mNameError\u001b[0m                                 Traceback (most recent call last)",
      "Cell \u001b[0;32mIn[13], line 1\u001b[0m\n\u001b[0;32m----> 1\u001b[0m \u001b[43mboth_by_description\u001b[49m\u001b[38;5;241m.\u001b[39mhead(\u001b[38;5;241m10\u001b[39m)\n",
      "\u001b[0;31mNameError\u001b[0m: name 'both_by_description' is not defined"
     ]
    }
   ],
   "source": [
    "both_by_description.head(10)"
   ]
  }
 ],
 "metadata": {
  "kernelspec": {
   "display_name": "Python 3 (ipykernel)",
   "language": "python",
   "name": "python3"
  },
  "language_info": {
   "codemirror_mode": {
    "name": "ipython",
    "version": 3
   },
   "file_extension": ".py",
   "mimetype": "text/x-python",
   "name": "python",
   "nbconvert_exporter": "python",
   "pygments_lexer": "ipython3",
   "version": "3.10.8"
  }
 },
 "nbformat": 4,
 "nbformat_minor": 5
}
