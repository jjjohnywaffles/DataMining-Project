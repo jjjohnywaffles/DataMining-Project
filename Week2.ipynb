{
 "cells": [
  {
   "cell_type": "markdown",
   "id": "206afce6-2943-4062-8365-b6a4958a1fa4",
   "metadata": {},
   "source": [
    "# Homework Week2"
   ]
  },
  {
   "cell_type": "markdown",
   "id": "ce01267a-3438-4c61-93b1-bc897e418a0a",
   "metadata": {},
   "source": [
    "## Jonathan Hu"
   ]
  },
  {
   "cell_type": "code",
   "execution_count": 7,
   "id": "417d1525-a226-4e33-a285-a0446e2745f4",
   "metadata": {
    "tags": []
   },
   "outputs": [
    {
     "name": "stdout",
     "output_type": "stream",
     "text": [
      "Simple Calculator\n",
      "-----------------\n"
     ]
    },
    {
     "name": "stdin",
     "output_type": "stream",
     "text": [
      "Would you like to add(+), subtract(-), multiply(*), or divide(/)? Input the sign. /\n",
      "Input first number:  12\n",
      "Input second number:  3\n"
     ]
    },
    {
     "name": "stdout",
     "output_type": "stream",
     "text": [
      "4.0\n"
     ]
    }
   ],
   "source": [
    "print(\"Simple Calculator\")\n",
    "print(\"-----------------\")\n",
    "sign = input(\"Would you like to add(+), subtract(-), multiply(*), or divide(/)? Input the sign.\")\n",
    "number1 = int(input(\"Input first number: \"))\n",
    "number2 = int(input(\"Input second number: \"))\n",
    "answer = 0\n",
    "if sign == \"+\":\n",
    "    answer = number1 + number2\n",
    "    print(answer)\n",
    "    \n",
    "if sign == \"-\":\n",
    "    answer = number1 - number2\n",
    "    print(answer)\n",
    "    \n",
    "if sign == \"*\":\n",
    "    answer = number1 * number2\n",
    "    print(answer)\n",
    "    \n",
    "if sign == \"/\":\n",
    "    answer = number1 / number2\n",
    "    print(answer)\n"
   ]
  },
  {
   "cell_type": "markdown",
   "id": "0677938a-ee6d-4f62-9fb5-456b804f8b74",
   "metadata": {},
   "source": [
    "### This small program is a basic calculator which takes a user's inputs including their desired numbers and the operation they would like to complete. "
   ]
  },
  {
   "cell_type": "markdown",
   "id": "69db1892-b89c-4623-a061-5d00b47086cb",
   "metadata": {},
   "source": [
    "### Some tips I found particularly useful while learning about the jupyter program include the shortcuts that the program has. Having the flexibility to code individual cells and being able to move cells around while quickly running individual cells all seem incredibly usefull. Along with this, I noticed on the JupyterLab's Documentation guide, there is a debugger which will be useful later on. "
   ]
  },
  {
   "cell_type": "code",
   "execution_count": null,
   "id": "be646ad0-e085-42ad-826a-4229953eaeb5",
   "metadata": {},
   "outputs": [],
   "source": []
  }
 ],
 "metadata": {
  "kernelspec": {
   "display_name": "Python 3 (ipykernel)",
   "language": "python",
   "name": "python3"
  },
  "language_info": {
   "codemirror_mode": {
    "name": "ipython",
    "version": 3
   },
   "file_extension": ".py",
   "mimetype": "text/x-python",
   "name": "python",
   "nbconvert_exporter": "python",
   "pygments_lexer": "ipython3",
   "version": "3.10.8"
  }
 },
 "nbformat": 4,
 "nbformat_minor": 5
}
